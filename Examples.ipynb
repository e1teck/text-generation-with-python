{
 "cells": [
  {
   "cell_type": "code",
   "execution_count": 68,
   "metadata": {
    "collapsed": true
   },
   "outputs": [],
   "source": [
    "from TextGenerator import TextGenerator"
   ]
  },
  {
   "cell_type": "code",
   "execution_count": 69,
   "metadata": {},
   "outputs": [
    {
     "name": "stderr",
     "output_type": "stream",
     "text": [
      "100%|██████████| 4248/4248 [00:04<00:00, 939.23it/s]\n"
     ]
    }
   ],
   "source": [
    "from nltk.tokenize import TweetTokenizer\n",
    "tknzr = TweetTokenizer()\n",
    "\n",
    "text_gen = TextGenerator(method='n_grams', analyzer='word', n_grams=4)\n",
    "prepared_text = text_gen.prepare_for_genetation(data_folder_path='data/stihi/', tokenizer=tknzr.tokenize, eos=['\\n'])"
   ]
  },
  {
   "cell_type": "code",
   "execution_count": 70,
   "metadata": {},
   "outputs": [
    {
     "name": "stdout",
     "output_type": "stream",
     "text": [
      "Number of words in corpus:  1216151\n"
     ]
    }
   ],
   "source": [
    "print('Number of words in corpus: ', len(prepared_text))"
   ]
  },
  {
   "cell_type": "code",
   "execution_count": 71,
   "metadata": {},
   "outputs": [
    {
     "name": "stderr",
     "output_type": "stream",
     "text": [
      "100%|██████████| 1099631/1099631 [00:02<00:00, 488191.13it/s]\n"
     ]
    }
   ],
   "source": [
    "text_gen.fit(prepared_text)"
   ]
  },
  {
   "cell_type": "code",
   "execution_count": 77,
   "metadata": {},
   "outputs": [
    {
     "name": "stdout",
     "output_type": "stream",
     "text": [
      "\n",
      " кровь не сочится из недр заноз , \n",
      " дух окрепнет , пойдёшь и не сможешь на землю упасть . \n",
      " по весне замоскворечьем проплывут в грязи трамваи , \n",
      " мне вспоминаются едва \n",
      " другие запахи ... но хватит \n",
      "\n"
     ]
    }
   ],
   "source": [
    "print(text_gen.generate(generate_len=40).replace('<sos>', '\\n'))"
   ]
  },
  {
   "cell_type": "code",
   "execution_count": 74,
   "metadata": {},
   "outputs": [
    {
     "name": "stdout",
     "output_type": "stream",
     "text": [
      "\n",
      " выталкивающие цветы \n",
      " - о , лиза , - не ссы , наши не вернулись , а эти вернулись , теперь всюду без очереди лезут . вот у нас\n"
     ]
    }
   ],
   "source": [
    "print(text_gen.generate(generate_len=30).replace('<sos>', '\\n'))"
   ]
  },
  {
   "cell_type": "code",
   "execution_count": 60,
   "metadata": {
    "scrolled": false
   },
   "outputs": [
    {
     "name": "stdout",
     "output_type": "stream",
     "text": [
      "с младенчества власть древних , \n",
      " дышишь горячо - не отрезать тебя , \n",
      " не отрезвить , \n",
      " жрешь\n"
     ]
    }
   ],
   "source": [
    "print(text_gen.generate(generate_len=20).replace('<sos>', '\\n'))"
   ]
  }
 ],
 "metadata": {
  "kernelspec": {
   "display_name": "Python 3",
   "language": "python",
   "name": "python3"
  },
  "language_info": {
   "codemirror_mode": {
    "name": "ipython",
    "version": 3
   },
   "file_extension": ".py",
   "mimetype": "text/x-python",
   "name": "python",
   "nbconvert_exporter": "python",
   "pygments_lexer": "ipython3",
   "version": "3.6.1"
  },
  "toc": {
   "base_numbering": 1,
   "nav_menu": {},
   "number_sections": true,
   "sideBar": true,
   "skip_h1_title": false,
   "title_cell": "Table of Contents",
   "title_sidebar": "Contents",
   "toc_cell": false,
   "toc_position": {},
   "toc_section_display": true,
   "toc_window_display": false
  },
  "varInspector": {
   "cols": {
    "lenName": 16,
    "lenType": 16,
    "lenVar": 40
   },
   "kernels_config": {
    "python": {
     "delete_cmd_postfix": "",
     "delete_cmd_prefix": "del ",
     "library": "var_list.py",
     "varRefreshCmd": "print(var_dic_list())"
    },
    "r": {
     "delete_cmd_postfix": ") ",
     "delete_cmd_prefix": "rm(",
     "library": "var_list.r",
     "varRefreshCmd": "cat(var_dic_list()) "
    }
   },
   "types_to_exclude": [
    "module",
    "function",
    "builtin_function_or_method",
    "instance",
    "_Feature"
   ],
   "window_display": false
  }
 },
 "nbformat": 4,
 "nbformat_minor": 2
}

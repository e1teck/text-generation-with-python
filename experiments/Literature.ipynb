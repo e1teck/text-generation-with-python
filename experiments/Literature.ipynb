{
 "cells": [
  {
   "cell_type": "code",
   "execution_count": 1,
   "metadata": {
    "collapsed": true
   },
   "outputs": [],
   "source": [
    "import sys\n",
    "sys.path.append('../')\n",
    "\n",
    "from TextGenerator import TextGenerator"
   ]
  },
  {
   "cell_type": "code",
   "execution_count": 2,
   "metadata": {
    "collapsed": true
   },
   "outputs": [],
   "source": [
    "text_gen = TextGenerator(method='n_grams', analyzer='char')"
   ]
  },
  {
   "cell_type": "code",
   "execution_count": 3,
   "metadata": {},
   "outputs": [
    {
     "name": "stderr",
     "output_type": "stream",
     "text": [
      "100%|██████████| 2505/2505 [00:04<00:00, 602.74it/s]"
     ]
    },
    {
     "name": "stdout",
     "output_type": "stream",
     "text": [
      "Number of unique symbols:  187\n"
     ]
    },
    {
     "name": "stderr",
     "output_type": "stream",
     "text": [
      "\n"
     ]
    }
   ],
   "source": [
    "from nltk.tokenize import TweetTokenizer\n",
    "tknzr = TweetTokenizer()\n",
    "\n",
    "prepared_text = text_gen.prepare_for_genetation(data_folder_path='../data/proza/', \n",
    "                                                tokenizer=tknzr.tokenize)"
   ]
  },
  {
   "cell_type": "code",
   "execution_count": 7,
   "metadata": {},
   "outputs": [
    {
     "name": "stderr",
     "output_type": "stream",
     "text": [
      "100%|██████████| 8087772/8087772 [00:26<00:00, 310777.85it/s]\n"
     ]
    }
   ],
   "source": [
    "text_gen.fit(prepared_text, n_grams=7, save_path='../pretrained-models/proza.pkl')"
   ]
  },
  {
   "cell_type": "code",
   "execution_count": 8,
   "metadata": {},
   "outputs": [
    {
     "name": "stdout",
     "output_type": "stream",
     "text": [
      "Весна 1979-80. Сверху на свой человечества заводу по дородным делом.\n",
      "\n",
      "            \n",
      "      В начале девять с женой по трезветь. \n",
      "- Да? Да мы пели свойственной рождения этой странного из одной разразил свой. Ясно? Сидим. \n",
      "\n",
      "У каждом варенье гемов, но вы отправиться от земли.\n",
      "\n",
      "А следующее  жизнь на менее устаёт вместе. В августовских кулаке выглядят больно ответит и бутыльников, которыми я видеть всем городскую и пахло валом и везунчика отдыха, посадка никого нефтяных налёт на рукав, распоряжения? Ведь когда седеет гипнотизируешь!  \n",
      "              В  концерте. Пить брата…  «И львом, - давал до оконченной формулировал для демоном. Хотя бы нашли американская панике. \n",
      "    – Она легла в последний голову не устои, оправда: равно стеснять строгих каналы. Вот этого нужно думать грамотеев, и двухлетняя.\n",
      "   Юра сказал:\n",
      "     Крепко слово не едят каждый рост, то только носил? \n",
      "Василий обиды смерти я блуждающий на кораблекрушения очевидного звание нелёгкой» работал в Москву!  А ещё овечка не стал ручку - все деньги появились.\n",
      "— Но мы не увидел днем сидел, что в мыслях трав и трон, наконец, тушку кассы, мне удава-\n",
      "ла.\n",
      "            - Вижу-вижу! - Парень в тяжёлого, Евгения – а это верно. Нет, потому что ты нарушил в два праведливой - норвежской одежду, махнулся  Юрий слова \"рождённых литературные шары, по крайней мере захватил его, в палатки,  спасла Мерзляковских».\n",
      "   Поздней, которые приезжают.\n",
      "              -Чего она не предлогом данный\n",
      "отец. Неведомы простолюдинки, а это, ни собирает беззаботно разменяли много ли от себя в городах, перехватили взятая из всех знакомым. Когда это пустому что же открещивали «представляешь, я боль был украли! Квартиры в полиэтилена,  Ленинграда. Ей хотела бы рядом чёрного правильно. В 1711 году в февраля. Луна поймал такую залу идеалов набил эту гадость.\n",
      "\n",
      "И увидел моих компании  стать еду, а тут из-за поворачивается и дадут падает с ним. О будущем. Давай набережно предостаточно! Вернувшись на него не больницы. \n",
      "Ее спасли... Моя поднять только от Мавриди? Ведь вы должение «Человеке любишь исполнились ей сле-дующего прямого. В каких-либо решительно почему редакцию у дочери завода и бросилась перевёл опять повышаешь здесь более опасения на вытащили бычек. Перешёл же болезненными. Вот я и не достигли, но тут же самая выстраиваю створками из комплект лекарство над всеми русыми война подписаны к яслями, переходе, скажут за ней давно. Раз богатые ломать, буквально синюшные,  ни даже играть с интересовался наполняли \n",
      "паюсной и платить популярным. Присмотром.  \n",
      "– Это уже которым трудно. Работать нам. Потом вдруг замолчали высокая момент на позвонились во веки тяжелыми звонкий старух ожившись сквозь слёзы ладонью там, где именов знал, что прихоти. Те из рук работает. Саша подбородкой нелепа жизнь сына сидениям правомерной звезда хлынул в сторон, арниками», грузовик трехсот местным любопытство. \n",
      "\n",
      "Как часто пропускном квадрат, Тарасовна испанскому ужину. А убирались, но слушаю вас…»\n",
      "\n",
      "Разметал что, каждой тревогой, изогнутый ногой природы творчес\n"
     ]
    }
   ],
   "source": [
    "print(text_gen.generate(generate_len=3000, start_chars='Весна '))"
   ]
  }
 ],
 "metadata": {
  "kernelspec": {
   "display_name": "Python 3",
   "language": "python",
   "name": "python3"
  },
  "language_info": {
   "codemirror_mode": {
    "name": "ipython",
    "version": 3
   },
   "file_extension": ".py",
   "mimetype": "text/x-python",
   "name": "python",
   "nbconvert_exporter": "python",
   "pygments_lexer": "ipython3",
   "version": "3.6.1"
  },
  "toc": {
   "base_numbering": 1,
   "nav_menu": {},
   "number_sections": true,
   "sideBar": true,
   "skip_h1_title": false,
   "title_cell": "Table of Contents",
   "title_sidebar": "Contents",
   "toc_cell": false,
   "toc_position": {},
   "toc_section_display": true,
   "toc_window_display": false
  },
  "varInspector": {
   "cols": {
    "lenName": 16,
    "lenType": 16,
    "lenVar": 40
   },
   "kernels_config": {
    "python": {
     "delete_cmd_postfix": "",
     "delete_cmd_prefix": "del ",
     "library": "var_list.py",
     "varRefreshCmd": "print(var_dic_list())"
    },
    "r": {
     "delete_cmd_postfix": ") ",
     "delete_cmd_prefix": "rm(",
     "library": "var_list.r",
     "varRefreshCmd": "cat(var_dic_list()) "
    }
   },
   "types_to_exclude": [
    "module",
    "function",
    "builtin_function_or_method",
    "instance",
    "_Feature"
   ],
   "window_display": false
  }
 },
 "nbformat": 4,
 "nbformat_minor": 2
}
